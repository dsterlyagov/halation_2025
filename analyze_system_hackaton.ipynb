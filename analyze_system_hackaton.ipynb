{
 "cells": [
  {
   "cell_type": "code",
   "id": "initial_id",
   "metadata": {
    "collapsed": true,
    "ExecuteTime": {
     "end_time": "2025-03-24T13:00:09.392485Z",
     "start_time": "2025-03-24T13:00:09.389467Z"
    }
   },
   "source": [
    "from typing import ClassVar, List, Dict, Optional\n",
    "from pydantic import BaseModel, Field\n",
    "\n",
    "from langchain_gigachat.chat_models import GigaChat\n",
    "from datetime import datetime\n",
    "\n",
    "from typing import  List, Dict\n",
    "from pydantic import BaseModel\n",
    "from langchain_core.prompts import ChatPromptTemplate\n",
    "\n",
    "from langchain_core.output_parsers import StrOutputParser\n",
    "from langgraph.graph import StateGraph, END\n",
    "\n",
    "import uuid\n",
    "import json\n",
    "import time"
   ],
   "outputs": [],
   "execution_count": 19
  },
  {
   "metadata": {
    "ExecuteTime": {
     "end_time": "2025-03-24T13:00:12.134227Z",
     "start_time": "2025-03-24T13:00:11.943472Z"
    }
   },
   "cell_type": "code",
   "source": [
    "import phoenix as px\n",
    "# session = px.launch_app(use_temp_dir=False) # Fo colab\n",
    "session = px.launch_app()"
   ],
   "id": "edb0255e929d2f5c",
   "outputs": [
    {
     "name": "stderr",
     "output_type": "stream",
     "text": [
      "Existing running Phoenix instance detected! Shutting it down and starting a new instance...\n"
     ]
    },
    {
     "name": "stdout",
     "output_type": "stream",
     "text": [
      "🌍 To view the Phoenix app in your browser, visit http://localhost:6006/\n",
      "📖 For more information on how to use Phoenix, check out https://docs.arize.com/phoenix\n"
     ]
    }
   ],
   "execution_count": 20
  },
  {
   "metadata": {
    "ExecuteTime": {
     "end_time": "2025-03-24T13:00:14.409635Z",
     "start_time": "2025-03-24T13:00:14.388951Z"
    }
   },
   "cell_type": "code",
   "source": [
    "from phoenix.otel import register\n",
    "from openinference.instrumentation.langchain import LangChainInstrumentor\n",
    "\n",
    "tracer_provider = register(\n",
    "  project_name=\"Agentic reasoning\", # Default is 'default'\n",
    "  endpoint=\"http://localhost:4317\",\n",
    ")\n",
    "\n",
    "LangChainInstrumentor().instrument(tracer_provider=tracer_provider)"
   ],
   "id": "731d8fc2c041a5c4",
   "outputs": [
    {
     "name": "stderr",
     "output_type": "stream",
     "text": [
      "Overriding of current TracerProvider is not allowed\n",
      "Attempting to instrument while already instrumented\n"
     ]
    },
    {
     "name": "stdout",
     "output_type": "stream",
     "text": [
      "🔭 OpenTelemetry Tracing Details 🔭\n",
      "|  Phoenix Project: Agentic reasoning\n",
      "|  Span Processor: SimpleSpanProcessor\n",
      "|  Collector Endpoint: localhost:4317\n",
      "|  Transport: gRPC\n",
      "|  Transport Headers: {'user-agent': '****'}\n",
      "|  \n",
      "|  Using a default SpanProcessor. `add_span_processor` will overwrite this default.\n",
      "|  \n",
      "|  ⚠️ WARNING: It is strongly advised to use a BatchSpanProcessor in production environments.\n",
      "|  \n",
      "|  `register` has set this TracerProvider as the global OpenTelemetry default.\n",
      "|  To disable this behavior, call `register` with `set_global_tracer_provider=False`.\n",
      "\n"
     ]
    }
   ],
   "execution_count": 21
  },
  {
   "metadata": {
    "ExecuteTime": {
     "end_time": "2025-03-24T13:00:19.847528Z",
     "start_time": "2025-03-24T13:00:19.843858Z"
    }
   },
   "cell_type": "code",
   "source": [
    "gigachat_api_key = \"NTQ3YmYxZTItZDg5ZS00YjNkLWJjNjMtNTJlZWY0OTM1MWFlOmEwYTg2YjlhLTExNmEtNGI5MS04MGY2LTlmYTFiYzllNTM4Mw==\"\n",
    "\n",
    "\n",
    "MAIN_TEMPLATE: ClassVar[str] = f\"\"\"Ты - AI архитектор предприятия. Сегодняшняя дата - {datetime.now().strftime('%Y-%m-%d')}\n",
    "Твоя задача - анализировать данные из различных источников и выявлять взаимосвязи между системами.\"\"\"\n",
    "\n",
    "# Инициализация моделей\n",
    "chat = GigaChat(\n",
    "    credentials=gigachat_api_key,\n",
    "    model=\"GigaChat-2-Max\",\n",
    "    verify_ssl_certs=False\n",
    ")\n",
    "\n"
   ],
   "id": "63dd4d85ea4465d3",
   "outputs": [],
   "execution_count": 22
  },
  {
   "metadata": {
    "ExecuteTime": {
     "end_time": "2025-03-24T13:00:23.445470Z",
     "start_time": "2025-03-24T13:00:23.439140Z"
    }
   },
   "cell_type": "code",
   "source": [
    "\n",
    "class SystemRelation(BaseModel):\n",
    "    system_a: str\n",
    "    system_b: str\n",
    "    relation_type: str\n",
    "    description: str\n",
    "    sources: List[str]\n",
    "\n",
    "class SystemRelationsState(BaseModel):\n",
    "    confluence_data: Dict = {}\n",
    "    meta_data: Dict = {}\n",
    "    telegram_data: List[str] = []\n",
    "    aggregated_relations: List[SystemRelation] = []\n",
    "    data_requests: List[str] = []\n",
    "    search_results: Dict = {}\n",
    "\n",
    "class Route(BaseModel):\n",
    "    \"\"\"Определяет следующий источник данных для обработки в workflow\"\"\"\n",
    "    step: str = Field(..., description=\"Source to process next: confluence, meta, telegram, aggregate\")\n",
    "\n",
    "gigachat_router = chat.with_structured_output(Route)"
   ],
   "id": "6aa84ad09f25b9b2",
   "outputs": [],
   "execution_count": 24
  },
  {
   "metadata": {
    "ExecuteTime": {
     "end_time": "2025-03-23T14:56:42.643660Z",
     "start_time": "2025-03-23T14:56:42.642109Z"
    }
   },
   "cell_type": "code",
   "source": "#print(dir(chat))",
   "id": "803a316f41f85608",
   "outputs": [],
   "execution_count": 33
  },
  {
   "metadata": {
    "ExecuteTime": {
     "end_time": "2025-03-24T13:00:25.741854Z",
     "start_time": "2025-03-24T13:00:25.736798Z"
    }
   },
   "cell_type": "code",
   "source": [
    "gigachat_router = chat.with_structured_output(Route)\n",
    "\n",
    "# Функции для работы с источниками данных\n",
    "\n",
    "def get_confluence_data(state: SystemRelationsState):\n",
    "    \"\"\"Пример получения данных из Confluence\"\"\"\n",
    "    print(\"Получение данных из Confluence...\")\n",
    "    # Здесь должен быть реальный код интеграции с Confluence API\n",
    "    state.confluence_data = {\n",
    "        \"Архитектурные решения\": {\n",
    "            \"Система A\": \"Интегрируется с Системой B через REST API\",\n",
    "            \"Система C\": \"Использует базу данных Системы D\"\n",
    "        }\n",
    "    }\n",
    "    return {\"confluence_data\": state.confluence_data}\n",
    "\n",
    "\n",
    "def get_meta_data(state: SystemRelationsState):\n",
    "    \"\"\"Пример получения данных из Meta системы\"\"\"\n",
    "    print(\"Получение данных из Meta...\")\n",
    "    # Здесь должен быть реальный код интеграции с Meta API\n",
    "    state.meta_data = {\n",
    "        \"systems\": [\n",
    "            {\"name\": \"Система A\", \"dependencies\": [\"Система B\"]},\n",
    "            {\"name\": \"Система B\", \"dependencies\": [\"Система C\"]}\n",
    "        ]\n",
    "    }\n",
    "    return {\"meta_data\": state.meta_data}\n",
    "\n",
    "\n",
    "def get_telegram_data(state: SystemRelationsState):\n",
    "    \"\"\"Пример получения данных из Telegram\"\"\"\n",
    "    print(\"Получение данных из Telegram...\")\n",
    "    # Здесь должен быть реальный код интеграции с Telegram API\n",
    "    state.telegram_data = [\n",
    "        \"В чате DevOps: Система E временно использует ресурсы Системы F до миграции\"\n",
    "    ]\n",
    "    return {\"telegram_data\": state.telegram_data}\n"
   ],
   "id": "5b2bcf68349ed394",
   "outputs": [],
   "execution_count": 25
  },
  {
   "metadata": {
    "ExecuteTime": {
     "end_time": "2025-03-24T11:59:34.592011Z",
     "start_time": "2025-03-24T11:59:34.589054Z"
    }
   },
   "cell_type": "code",
   "source": [
    "# from langchain.chains import ChatChain\n",
    "# \n",
    "# def analyze_relations_ru(state: SystemRelationsState):\n",
    "#     \"\"\"Анализ и агрегация данных.\"\"\"\n",
    "#     \n",
    "#     # Формирование шаблона для запроса\n",
    "#     prompt = ChatPromptTemplate.from_template(\"\"\"\n",
    "#     Анализируй входящие данные и агрегируй их. У нас есть три источника данных:\n",
    "#     1. Confluence Data: {confluence}\n",
    "#     2. Meta Data: {meta}\n",
    "#     3. Telegram Data: {telegram}\n",
    "#     \n",
    "#     Обработай данные, выяви важные связи, и выведи отчет о взаимосвязях и возможных паттернах.\n",
    "#     \"\"\")\n",
    "#     \n",
    "#     # Создание цепочки для обработки данных\n",
    "#     chain = prompt | ChatChain() | StrOutputParser()\n",
    "#     \n",
    "#     # Входные данные в формате JSON\n",
    "#     inputs = {\n",
    "#         \"confluence\": json.dumps(state.confluence_data, ensure_ascii=False),\n",
    "#         \"meta\": json.dumps(state.meta_data, ensure_ascii=False),\n",
    "#         \"telegram\": \"\\n\".join(state.telegram_data)\n",
    "#     }\n",
    "#     \n",
    "#     # Выполняем анализ данных\n",
    "#     analysis_result = chain.invoke(inputs)\n",
    "#     \n",
    "#     # Сохраняем результат анализа в состояние\n",
    "#     state.analysis = analysis_result\n",
    "#     \n",
    "#     # Возвращаем обновленное состояние с результатами анализа\n",
    "#     return state\n"
   ],
   "id": "fa0bedb6d95bc61b",
   "outputs": [],
   "execution_count": 7
  },
  {
   "metadata": {
    "ExecuteTime": {
     "end_time": "2025-03-24T13:00:29.879791Z",
     "start_time": "2025-03-24T13:00:29.875981Z"
    }
   },
   "cell_type": "code",
   "source": [
    "from langchain.chains import LLMChain\n",
    "def analyze_relations_1(state: SystemRelationsState):\n",
    "    \"\"\"Анализ и агрегация данных.\"\"\"\n",
    "    \n",
    "    # Формирование шаблона для запроса\n",
    "    prompt = ChatPromptTemplate.from_template(\"\"\"\n",
    "    Анализируй входящие данные и агрегируй их. У нас есть три источника данных:\n",
    "    1. Confluence Data: {confluence}\n",
    "    2. Meta Data: {meta}\n",
    "    3. Telegram Data: {telegram}\n",
    "    \n",
    "    Обработай данные, выяви важные связи, и выведи отчет о взаимосвязях и возможных паттернах. Если между системами нет необходимо акцентировать внимание на том, что между системами связи не выявлено\n",
    "    \"\"\")\n",
    "    \n",
    "    # Инициализация модели (используется OpenAI, но можно заменить на любую другую модель)\n",
    "      # Можете заменить на нужную модель\n",
    "    \n",
    "    # Создание цепочки для обработки данных\n",
    "    chain = LLMChain(prompt=prompt, llm=chat, output_parser=StrOutputParser())\n",
    "    \n",
    "    # Входные данные в формате JSON\n",
    "    inputs = {\n",
    "        \"confluence\": json.dumps(state.confluence_data, ensure_ascii=False),\n",
    "        \"meta\": json.dumps(state.meta_data, ensure_ascii=False),\n",
    "        \"telegram\": \"\\n\".join(state.telegram_data)\n",
    "    }\n",
    "    \n",
    "    # Выполняем анализ данных\n",
    "    analysis_result = chain.run(inputs)\n",
    "    \n",
    "    # Сохраняем результат анализа в состояние\n",
    "    state.analysis = analysis_result\n",
    "    \n",
    "    # Возвращаем обновленное состояние с результатами анализа\n",
    "    return state"
   ],
   "id": "63bb1b08a6c44b7d",
   "outputs": [],
   "execution_count": 26
  },
  {
   "metadata": {
    "ExecuteTime": {
     "end_time": "2025-03-24T13:00:33.545091Z",
     "start_time": "2025-03-24T13:00:32.503725Z"
    }
   },
   "cell_type": "code",
   "source": [
    "\n",
    "\n",
    "class SystemRelation(BaseModel):\n",
    "    system_a: str\n",
    "    system_b: str\n",
    "    relation_type: str\n",
    "    description: str\n",
    "    sources: List[str]\n",
    "\n",
    "class SystemRelationsState(BaseModel):\n",
    "    confluence_data: Dict = {}\n",
    "    meta_data: Dict = {}\n",
    "    telegram_data: List[str] = []\n",
    "    aggregated_relations: List[SystemRelation] = []\n",
    "    data_requests: List[str] = []\n",
    "    search_results: Dict = {}\n",
    "    analysis: str = \"\"  # Добавлено новое поле\n",
    "    report: str = \"\"    # Добавлено поле для отчета\n",
    "\n",
    "\n",
    "# Функции обработки данных\n",
    "\n",
    "# Исправленная функция analyze_relations\n",
    "def analyze_relations(state: SystemRelationsState):\n",
    "    \"\"\"Анализ и агрегация данных\"\"\"\n",
    "    prompt = ChatPromptTemplate.from_template(\"...\")  # Ваш шаблон промпта\n",
    "    \n",
    "    chain = prompt | chat | StrOutputParser()\n",
    "    \n",
    "    # Сохраняем результат анализа прямо в состояние\n",
    "    state.analysis = chain.invoke({\n",
    "        \"confluence\": json.dumps(state.confluence_data, ensure_ascii=False),\n",
    "        \"meta\": json.dumps(state.meta_data, ensure_ascii=False),\n",
    "        \"telegram\": \"\\n\".join(state.telegram_data)\n",
    "    })\n",
    "    \n",
    "    return state  # Возвращаем обновленное состояние\n",
    "\n",
    "\n",
    "\n",
    "# Исправленная функция format_final_report\n",
    "def format_final_report(state: SystemRelationsState):\n",
    "    \"\"\"Формирование итогового отчета\"\"\"\n",
    "    prompt = ChatPromptTemplate.from_template(\"сформировать агрегированные данные из источников в формате json, НЕ ПРИДУМЫВАЙ когда собираешь источники данных бери данные только из функций confluence meta telegram\")  # Ваш шаблон промпта\n",
    "    \n",
    "    chain = prompt | chat | StrOutputParser()\n",
    "    state.report = chain.invoke({\"analysis\": state.analysis})\n",
    "    return state  # Возвращаем обновленное состояние\n",
    "# Маршрутизация\n",
    "def router(state: SystemRelationsState):\n",
    "    \"\"\"Определение следующего шага обработки\"\"\"\n",
    "    if not state.confluence_data:\n",
    "        return {\"decision\": \"confluence\"}\n",
    "    if not state.meta_data:\n",
    "        return {\"decision\": \"meta\"}\n",
    "    if not state.telegram_data:\n",
    "        return {\"decision\": \"telegram\"}\n",
    "    return {\"decision\": \"aggregate\"}\n",
    "\n",
    "# Построение графа\n",
    "workflow = StateGraph(SystemRelationsState)\n",
    "\n",
    "workflow.add_node(\"get_confluence\", get_confluence_data)\n",
    "workflow.add_node(\"get_meta\", get_meta_data)\n",
    "workflow.add_node(\"get_telegram\", get_telegram_data)\n",
    "workflow.add_node(\"analyze\", analyze_relations_1)\n",
    "workflow.add_node(\"final_report\", format_final_report)\n",
    "\n",
    "workflow.add_edge(\"get_confluence\", \"get_meta\")\n",
    "workflow.add_edge(\"get_meta\", \"get_telegram\")\n",
    "workflow.add_edge(\"get_telegram\", \"analyze\")\n",
    "workflow.add_edge(\"analyze\", \"final_report\")\n",
    "workflow.add_edge(\"final_report\", END)\n",
    "\n",
    "workflow.set_entry_point(\"get_confluence\")\n",
    "app = workflow.compile()\n",
    "\n",
    "app"
   ],
   "id": "ae123b228d1251c4",
   "outputs": [
    {
     "data": {
      "text/plain": [
       "<langgraph.graph.state.CompiledStateGraph object at 0x33afcda00>"
      ],
      "image/png": "[encoded data removed]"
     },
     "execution_count": 27,
     "metadata": {},
     "output_type": "execute_result"
    }
   ],
   "execution_count": 27
  },
  {
   "metadata": {},
   "cell_type": "code",
   "outputs": [],
   "execution_count": null,
   "source": "",
   "id": "ea52c1d4d6b8393f"
  },
  {
   "metadata": {
    "ExecuteTime": {
     "end_time": "2025-03-24T13:00:51.245789Z",
     "start_time": "2025-03-24T13:00:38.346027Z"
    }
   },
   "cell_type": "code",
   "source": [
    "# Запуск\n",
    "async def run_agent():\n",
    "    inputs = {\"user_query\": \"Построй карту взаимосвязей между системами\"}\n",
    "    config = {\"configurable\": {\"thread_id\": str(uuid.uuid4())}}\n",
    "    \n",
    "    async for event in app.astream_events(inputs, version=\"v2\"):\n",
    "        event_type = event.get('event', None)\n",
    "        node = event.get('name', '')\n",
    "        \n",
    "        if event_type == 'on_chain_start':\n",
    "            print(f\"\\n[{node.upper()}]\")\n",
    "        elif event_type == 'on_chain_end':\n",
    "            print(f\"[/{node.upper()}]\")\n",
    "        elif event_type == 'on_chat_model_stream':\n",
    "            print(event['data']['chunk'].content, end='')\n",
    "\n",
    "start = time.time()\n",
    "await run_agent()\n",
    "print(f\"\\nTotal time: {time.time() - start:.2f}s\")"
   ],
   "id": "d5a975dc3e40609f",
   "outputs": [
    {
     "name": "stderr",
     "output_type": "stream",
     "text": [
      "Transient error StatusCode.UNAVAILABLE encountered while exporting traces to localhost:4317, retrying in 1s.\n"
     ]
    },
    {
     "name": "stdout",
     "output_type": "stream",
     "text": [
      "\n",
      "[LANGGRAPH]\n",
      "\n",
      "[__START__]\n",
      "\n",
      "[_WRITE]\n",
      "[/_WRITE]\n",
      "\n",
      "[_WRITE]\n",
      "[/_WRITE]\n",
      "[/__START__]\n",
      "\n",
      "[GET_CONFLUENCE]\n",
      "Получение данных из Confluence...\n",
      "\n",
      "[_WRITE]\n",
      "[/_WRITE]\n",
      "[/GET_CONFLUENCE]\n",
      "\n",
      "[GET_META]\n",
      "Получение данных из Meta...\n",
      "\n",
      "[_WRITE]\n",
      "[/_WRITE]\n",
      "[/GET_META]\n",
      "\n",
      "[GET_TELEGRAM]\n",
      "Получение данных из Telegram...\n",
      "\n",
      "[_WRITE]\n",
      "[/_WRITE]\n",
      "[/GET_TELEGRAM]\n",
      "\n",
      "[ANALYZE]\n",
      "\n",
      "[LLMCHAIN]\n",
      "Для анализа предоставленных данных начнем с рассмотрения каждого источника отдельно и выявления ключевых связей между системами.\n",
      "\n",
      "### Источник №1 — **Confluence Data**\n",
      "Здесь представлены архитектурные решения двух систем:\n",
      "- **Система A** интегрируется с **Системой B** через REST API.\n",
      "- **Система C** использует базу данных от **Системы D**.\n",
      "\n",
      "Это позволяет нам выявить две прямые зависимости:\n",
      "1. **A → B**: система А зависит от системы B (через REST API).\n",
      "2. **C → D**: система C зависит от базы данных системы D.\n",
      "\n",
      "### Источник №2 — **Meta Data**\n",
      "Этот источник содержит метаданные о зависимостях между несколькими системами:\n",
      "- **Система A** имеет зависимость от **Системы B**.\n",
      "- **Система B**, в свою очередь, зависит от **Системы C**.\n",
      "\n",
      "На основе этого мы можем дополнить уже существующие зависимости следующим образом:\n",
      "1. **B → C**: система B зависит от системы C.\n",
      "\n",
      "Таким образом, образуется цепочка зависимостей: `A → B → C`.\n",
      "\n",
      "### Источник №3 — **Telegram Data**\n",
      "Сообщение в чате DevOps указывает на временную связь между двумя новыми системами:\n",
      "- **Система E** временно использует ресурсы **Системы F** до завершения процесса миграции.\n",
      "\n",
      "Эта информация добавляет еще одну важную связь:\n",
      "1. **E → F**: система E временно зависит от ресурсов системы F.\n",
      "\n",
      "---\n",
      "\n",
      "## Итоговый отчет\n",
      "\n",
      "### Прямые зависимости:\n",
      "1. **А → В**: Система A интегрирована с системой B через REST API.\n",
      "2. **В → С**: Система B зависит от системы C.\n",
      "3. **С → D**: Система C использует базу данных системы D.\n",
      "4. **Е → F**: Система E временно использует ресурсы системы F.\n",
      "\n",
      "### Полная схема зависимостей:\n",
      "- **Цепочка A → B → C** демонстрирует каскадную зависимость трех систем друг от друга.\n",
      "- Между системами **D** и остальными нет явной связи, кроме косвенной через систему C.\n",
      "- Система **F** используется временной связью только системой Е.\n",
      "\n",
      "---\n",
      "\n",
      "### Заключение\n",
      "Анализ показывает следующие основные закономерности:\n",
      "- Цепочки зависят одна от другой: **A → B → C**. Это подчеркивает важность поддержания стабильности каждой системы в этой цепи.\n",
      "- Отдельное внимание стоит уделить временной зависимости **E → F**, поскольку она связана с процессом миграции и требует контроля сроков перехода.\n",
      "- Не выявлены прямые связи между системами **D** и **E/F**, однако возможно наличие косвенных взаимодействий через другие элементы инфраструктуры.\n",
      "\n",
      "Такой отчет поможет лучше понимать архитектуру проекта и возможные риски, связанные с изменениями в одной из подсистем.[/LLMCHAIN]\n"
     ]
    },
    {
     "ename": "ValueError",
     "evalue": "\"SystemRelationsState\" object has no field \"analysis\"",
     "output_type": "error",
     "traceback": [
      "\u001B[31m---------------------------------------------------------------------------\u001B[39m",
      "\u001B[31mValueError\u001B[39m                                Traceback (most recent call last)",
      "\u001B[36mCell\u001B[39m\u001B[36m \u001B[39m\u001B[32mIn[28]\u001B[39m\u001B[32m, line 18\u001B[39m\n\u001B[32m     15\u001B[39m             \u001B[38;5;28mprint\u001B[39m(event[\u001B[33m'\u001B[39m\u001B[33mdata\u001B[39m\u001B[33m'\u001B[39m][\u001B[33m'\u001B[39m\u001B[33mchunk\u001B[39m\u001B[33m'\u001B[39m].content, end=\u001B[33m'\u001B[39m\u001B[33m'\u001B[39m)\n\u001B[32m     17\u001B[39m start = time.time()\n\u001B[32m---> \u001B[39m\u001B[32m18\u001B[39m \u001B[38;5;28;01mawait\u001B[39;00m run_agent()\n\u001B[32m     19\u001B[39m \u001B[38;5;28mprint\u001B[39m(\u001B[33mf\u001B[39m\u001B[33m\"\u001B[39m\u001B[38;5;130;01m\\n\u001B[39;00m\u001B[33mTotal time: \u001B[39m\u001B[38;5;132;01m{\u001B[39;00mtime.time()\u001B[38;5;250m \u001B[39m-\u001B[38;5;250m \u001B[39mstart\u001B[38;5;132;01m:\u001B[39;00m\u001B[33m.2f\u001B[39m\u001B[38;5;132;01m}\u001B[39;00m\u001B[33ms\u001B[39m\u001B[33m\"\u001B[39m)\n",
      "\u001B[36mCell\u001B[39m\u001B[36m \u001B[39m\u001B[32mIn[28]\u001B[39m\u001B[32m, line 6\u001B[39m, in \u001B[36mrun_agent\u001B[39m\u001B[34m()\u001B[39m\n\u001B[32m      3\u001B[39m inputs = {\u001B[33m\"\u001B[39m\u001B[33muser_query\u001B[39m\u001B[33m\"\u001B[39m: \u001B[33m\"\u001B[39m\u001B[33mПострой карту взаимосвязей между системами\u001B[39m\u001B[33m\"\u001B[39m}\n\u001B[32m      4\u001B[39m config = {\u001B[33m\"\u001B[39m\u001B[33mconfigurable\u001B[39m\u001B[33m\"\u001B[39m: {\u001B[33m\"\u001B[39m\u001B[33mthread_id\u001B[39m\u001B[33m\"\u001B[39m: \u001B[38;5;28mstr\u001B[39m(uuid.uuid4())}}\n\u001B[32m----> \u001B[39m\u001B[32m6\u001B[39m \u001B[38;5;28;01masync\u001B[39;00m \u001B[38;5;28;01mfor\u001B[39;00m event \u001B[38;5;129;01min\u001B[39;00m app.astream_events(inputs, version=\u001B[33m\"\u001B[39m\u001B[33mv2\u001B[39m\u001B[33m\"\u001B[39m):\n\u001B[32m      7\u001B[39m     event_type = event.get(\u001B[33m'\u001B[39m\u001B[33mevent\u001B[39m\u001B[33m'\u001B[39m, \u001B[38;5;28;01mNone\u001B[39;00m)\n\u001B[32m      8\u001B[39m     node = event.get(\u001B[33m'\u001B[39m\u001B[33mname\u001B[39m\u001B[33m'\u001B[39m, \u001B[33m'\u001B[39m\u001B[33m'\u001B[39m)\n",
      "\u001B[36mFile \u001B[39m\u001B[32m~/PycharmProjects/langgraphAI/myenv/lib/python3.12/site-packages/langchain_core/runnables/base.py:1388\u001B[39m, in \u001B[36mRunnable.astream_events\u001B[39m\u001B[34m(self, input, config, version, include_names, include_types, include_tags, exclude_names, exclude_types, exclude_tags, **kwargs)\u001B[39m\n\u001B[32m   1385\u001B[39m     \u001B[38;5;28;01mraise\u001B[39;00m \u001B[38;5;167;01mNotImplementedError\u001B[39;00m(msg)\n\u001B[32m   1387\u001B[39m \u001B[38;5;28;01masync\u001B[39;00m \u001B[38;5;28;01mwith\u001B[39;00m aclosing(event_stream):\n\u001B[32m-> \u001B[39m\u001B[32m1388\u001B[39m     \u001B[38;5;28;01masync\u001B[39;00m \u001B[38;5;28;01mfor\u001B[39;00m event \u001B[38;5;129;01min\u001B[39;00m event_stream:\n\u001B[32m   1389\u001B[39m         \u001B[38;5;28;01myield\u001B[39;00m event\n",
      "\u001B[36mFile \u001B[39m\u001B[32m~/PycharmProjects/langgraphAI/myenv/lib/python3.12/site-packages/langchain_core/tracers/event_stream.py:1013\u001B[39m, in \u001B[36m_astream_events_implementation_v2\u001B[39m\u001B[34m(runnable, input, config, include_names, include_types, include_tags, exclude_names, exclude_types, exclude_tags, **kwargs)\u001B[39m\n\u001B[32m   1011\u001B[39m \u001B[38;5;66;03m# Await it anyway, to run any cleanup code, and propagate any exceptions\u001B[39;00m\n\u001B[32m   1012\u001B[39m \u001B[38;5;28;01mwith\u001B[39;00m contextlib.suppress(asyncio.CancelledError):\n\u001B[32m-> \u001B[39m\u001B[32m1013\u001B[39m     \u001B[38;5;28;01mawait\u001B[39;00m task\n",
      "\u001B[36mFile \u001B[39m\u001B[32m~/PycharmProjects/langgraphAI/myenv/lib/python3.12/site-packages/langchain_core/tracers/event_stream.py:968\u001B[39m, in \u001B[36m_astream_events_implementation_v2.<locals>.consume_astream\u001B[39m\u001B[34m()\u001B[39m\n\u001B[32m    965\u001B[39m \u001B[38;5;28;01mtry\u001B[39;00m:\n\u001B[32m    966\u001B[39m     \u001B[38;5;66;03m# if astream also calls tap_output_aiter this will be a no-op\u001B[39;00m\n\u001B[32m    967\u001B[39m     \u001B[38;5;28;01masync\u001B[39;00m \u001B[38;5;28;01mwith\u001B[39;00m aclosing(runnable.astream(\u001B[38;5;28minput\u001B[39m, config, **kwargs)) \u001B[38;5;28;01mas\u001B[39;00m stream:\n\u001B[32m--> \u001B[39m\u001B[32m968\u001B[39m         \u001B[38;5;28;01masync\u001B[39;00m \u001B[38;5;28;01mfor\u001B[39;00m _ \u001B[38;5;129;01min\u001B[39;00m event_streamer.tap_output_aiter(run_id, stream):\n\u001B[32m    969\u001B[39m             \u001B[38;5;66;03m# All the content will be picked up\u001B[39;00m\n\u001B[32m    970\u001B[39m             \u001B[38;5;28;01mpass\u001B[39;00m\n\u001B[32m    971\u001B[39m \u001B[38;5;28;01mfinally\u001B[39;00m:\n",
      "\u001B[36mFile \u001B[39m\u001B[32m~/PycharmProjects/langgraphAI/myenv/lib/python3.12/site-packages/langchain_core/tracers/event_stream.py:204\u001B[39m, in \u001B[36m_AstreamEventsCallbackHandler.tap_output_aiter\u001B[39m\u001B[34m(self, run_id, output)\u001B[39m\n\u001B[32m    202\u001B[39m \u001B[38;5;28;01myield\u001B[39;00m cast(T, first)\n\u001B[32m    203\u001B[39m \u001B[38;5;66;03m# consume the rest of the output\u001B[39;00m\n\u001B[32m--> \u001B[39m\u001B[32m204\u001B[39m \u001B[38;5;28;01masync\u001B[39;00m \u001B[38;5;28;01mfor\u001B[39;00m chunk \u001B[38;5;129;01min\u001B[39;00m output:\n\u001B[32m    205\u001B[39m     \u001B[38;5;28mself\u001B[39m._send(\n\u001B[32m    206\u001B[39m         {**event, \u001B[33m\"\u001B[39m\u001B[33mdata\u001B[39m\u001B[33m\"\u001B[39m: {\u001B[33m\"\u001B[39m\u001B[33mchunk\u001B[39m\u001B[33m\"\u001B[39m: chunk}},\n\u001B[32m    207\u001B[39m         run_info[\u001B[33m\"\u001B[39m\u001B[33mrun_type\u001B[39m\u001B[33m\"\u001B[39m],\n\u001B[32m    208\u001B[39m     )\n\u001B[32m    209\u001B[39m     \u001B[38;5;28;01myield\u001B[39;00m chunk\n",
      "\u001B[36mFile \u001B[39m\u001B[32m~/PycharmProjects/langgraphAI/myenv/lib/python3.12/site-packages/langgraph/pregel/__init__.py:2607\u001B[39m, in \u001B[36mPregel.astream\u001B[39m\u001B[34m(self, input, config, stream_mode, output_keys, interrupt_before, interrupt_after, debug, subgraphs)\u001B[39m\n\u001B[32m   2601\u001B[39m \u001B[38;5;66;03m# Similarly to Bulk Synchronous Parallel / Pregel model\u001B[39;00m\n\u001B[32m   2602\u001B[39m \u001B[38;5;66;03m# computation proceeds in steps, while there are channel updates\u001B[39;00m\n\u001B[32m   2603\u001B[39m \u001B[38;5;66;03m# channel updates from step N are only visible in step N+1\u001B[39;00m\n\u001B[32m   2604\u001B[39m \u001B[38;5;66;03m# channels are guaranteed to be immutable for the duration of the step,\u001B[39;00m\n\u001B[32m   2605\u001B[39m \u001B[38;5;66;03m# with channel updates applied only at the transition between steps\u001B[39;00m\n\u001B[32m   2606\u001B[39m \u001B[38;5;28;01mwhile\u001B[39;00m loop.tick(input_keys=\u001B[38;5;28mself\u001B[39m.input_channels):\n\u001B[32m-> \u001B[39m\u001B[32m2607\u001B[39m     \u001B[38;5;28;01masync\u001B[39;00m \u001B[38;5;28;01mfor\u001B[39;00m _ \u001B[38;5;129;01min\u001B[39;00m runner.atick(\n\u001B[32m   2608\u001B[39m         loop.tasks.values(),\n\u001B[32m   2609\u001B[39m         timeout=\u001B[38;5;28mself\u001B[39m.step_timeout,\n\u001B[32m   2610\u001B[39m         retry_policy=\u001B[38;5;28mself\u001B[39m.retry_policy,\n\u001B[32m   2611\u001B[39m         get_waiter=get_waiter,\n\u001B[32m   2612\u001B[39m     ):\n\u001B[32m   2613\u001B[39m         \u001B[38;5;66;03m# emit output\u001B[39;00m\n\u001B[32m   2614\u001B[39m         \u001B[38;5;28;01mfor\u001B[39;00m o \u001B[38;5;129;01min\u001B[39;00m output():\n\u001B[32m   2615\u001B[39m             \u001B[38;5;28;01myield\u001B[39;00m o\n",
      "\u001B[36mFile \u001B[39m\u001B[32m~/PycharmProjects/langgraphAI/myenv/lib/python3.12/site-packages/langgraph/pregel/runner.py:259\u001B[39m, in \u001B[36mPregelRunner.atick\u001B[39m\u001B[34m(self, tasks, reraise, timeout, retry_policy, get_waiter)\u001B[39m\n\u001B[32m    257\u001B[39m t = tasks[\u001B[32m0\u001B[39m]\n\u001B[32m    258\u001B[39m \u001B[38;5;28;01mtry\u001B[39;00m:\n\u001B[32m--> \u001B[39m\u001B[32m259\u001B[39m     \u001B[38;5;28;01mawait\u001B[39;00m arun_with_retry(\n\u001B[32m    260\u001B[39m         t,\n\u001B[32m    261\u001B[39m         retry_policy,\n\u001B[32m    262\u001B[39m         stream=\u001B[38;5;28mself\u001B[39m.use_astream,\n\u001B[32m    263\u001B[39m         configurable={\n\u001B[32m    264\u001B[39m             CONFIG_KEY_CALL: partial(\n\u001B[32m    265\u001B[39m                 _acall,\n\u001B[32m    266\u001B[39m                 weakref.ref(t),\n\u001B[32m    267\u001B[39m                 stream=\u001B[38;5;28mself\u001B[39m.use_astream,\n\u001B[32m    268\u001B[39m                 retry=retry_policy,\n\u001B[32m    269\u001B[39m                 futures=weakref.ref(futures),\n\u001B[32m    270\u001B[39m                 schedule_task=\u001B[38;5;28mself\u001B[39m.schedule_task,\n\u001B[32m    271\u001B[39m                 submit=\u001B[38;5;28mself\u001B[39m.submit,\n\u001B[32m    272\u001B[39m                 reraise=reraise,\n\u001B[32m    273\u001B[39m                 loop=loop,\n\u001B[32m    274\u001B[39m             ),\n\u001B[32m    275\u001B[39m         },\n\u001B[32m    276\u001B[39m     )\n\u001B[32m    277\u001B[39m     \u001B[38;5;28mself\u001B[39m.commit(t, \u001B[38;5;28;01mNone\u001B[39;00m)\n\u001B[32m    278\u001B[39m \u001B[38;5;28;01mexcept\u001B[39;00m \u001B[38;5;167;01mException\u001B[39;00m \u001B[38;5;28;01mas\u001B[39;00m exc:\n",
      "\u001B[36mFile \u001B[39m\u001B[32m~/PycharmProjects/langgraphAI/myenv/lib/python3.12/site-packages/langgraph/pregel/retry.py:123\u001B[39m, in \u001B[36marun_with_retry\u001B[39m\u001B[34m(task, retry_policy, stream, configurable)\u001B[39m\n\u001B[32m    121\u001B[39m \u001B[38;5;66;03m# run the task\u001B[39;00m\n\u001B[32m    122\u001B[39m \u001B[38;5;28;01mif\u001B[39;00m stream:\n\u001B[32m--> \u001B[39m\u001B[32m123\u001B[39m     \u001B[38;5;28;01masync\u001B[39;00m \u001B[38;5;28;01mfor\u001B[39;00m _ \u001B[38;5;129;01min\u001B[39;00m task.proc.astream(task.input, config):\n\u001B[32m    124\u001B[39m         \u001B[38;5;28;01mpass\u001B[39;00m\n\u001B[32m    125\u001B[39m     \u001B[38;5;66;03m# if successful, end\u001B[39;00m\n",
      "\u001B[36mFile \u001B[39m\u001B[32m~/PycharmProjects/langgraphAI/myenv/lib/python3.12/site-packages/langgraph/utils/runnable.py:760\u001B[39m, in \u001B[36mRunnableSeq.astream\u001B[39m\u001B[34m(self, input, config, **kwargs)\u001B[39m\n\u001B[32m    758\u001B[39m output: Any = \u001B[38;5;28;01mNone\u001B[39;00m\n\u001B[32m    759\u001B[39m add_supported = \u001B[38;5;28;01mFalse\u001B[39;00m\n\u001B[32m--> \u001B[39m\u001B[32m760\u001B[39m \u001B[38;5;28;01masync\u001B[39;00m \u001B[38;5;28;01mfor\u001B[39;00m chunk \u001B[38;5;129;01min\u001B[39;00m aiterator:\n\u001B[32m    761\u001B[39m     \u001B[38;5;28;01myield\u001B[39;00m chunk\n\u001B[32m    762\u001B[39m     \u001B[38;5;66;03m# collect final output\u001B[39;00m\n",
      "\u001B[36mFile \u001B[39m\u001B[32m~/PycharmProjects/langgraphAI/myenv/lib/python3.12/site-packages/langchain_core/tracers/event_stream.py:181\u001B[39m, in \u001B[36m_AstreamEventsCallbackHandler.tap_output_aiter\u001B[39m\u001B[34m(self, run_id, output)\u001B[39m\n\u001B[32m    179\u001B[39m tap = \u001B[38;5;28mself\u001B[39m.is_tapped.setdefault(run_id, sentinel)\n\u001B[32m    180\u001B[39m \u001B[38;5;66;03m# wait for first chunk\u001B[39;00m\n\u001B[32m--> \u001B[39m\u001B[32m181\u001B[39m first = \u001B[38;5;28;01mawait\u001B[39;00m py_anext(output, default=sentinel)\n\u001B[32m    182\u001B[39m \u001B[38;5;28;01mif\u001B[39;00m first \u001B[38;5;129;01mis\u001B[39;00m sentinel:\n\u001B[32m    183\u001B[39m     \u001B[38;5;28;01mreturn\u001B[39;00m\n",
      "\u001B[36mFile \u001B[39m\u001B[32m~/PycharmProjects/langgraphAI/myenv/lib/python3.12/site-packages/langchain_core/utils/aiter.py:74\u001B[39m, in \u001B[36mpy_anext.<locals>.anext_impl\u001B[39m\u001B[34m()\u001B[39m\n\u001B[32m     67\u001B[39m \u001B[38;5;28;01masync\u001B[39;00m \u001B[38;5;28;01mdef\u001B[39;00m\u001B[38;5;250m \u001B[39m\u001B[34manext_impl\u001B[39m() -> Union[T, Any]:\n\u001B[32m     68\u001B[39m     \u001B[38;5;28;01mtry\u001B[39;00m:\n\u001B[32m     69\u001B[39m         \u001B[38;5;66;03m# The C code is way more low-level than this, as it implements\u001B[39;00m\n\u001B[32m     70\u001B[39m         \u001B[38;5;66;03m# all methods of the iterator protocol. In this implementation\u001B[39;00m\n\u001B[32m     71\u001B[39m         \u001B[38;5;66;03m# we're relying on higher-level coroutine concepts, but that's\u001B[39;00m\n\u001B[32m     72\u001B[39m         \u001B[38;5;66;03m# exactly what we want -- crosstest pure-Python high-level\u001B[39;00m\n\u001B[32m     73\u001B[39m         \u001B[38;5;66;03m# implementation and low-level C anext() iterators.\u001B[39;00m\n\u001B[32m---> \u001B[39m\u001B[32m74\u001B[39m         \u001B[38;5;28;01mreturn\u001B[39;00m \u001B[38;5;28;01mawait\u001B[39;00m \u001B[34m__anext__\u001B[39m(iterator)\n\u001B[32m     75\u001B[39m     \u001B[38;5;28;01mexcept\u001B[39;00m \u001B[38;5;167;01mStopAsyncIteration\u001B[39;00m:\n\u001B[32m     76\u001B[39m         \u001B[38;5;28;01mreturn\u001B[39;00m default\n",
      "\u001B[36mFile \u001B[39m\u001B[32m~/PycharmProjects/langgraphAI/myenv/lib/python3.12/site-packages/langchain_core/runnables/base.py:1454\u001B[39m, in \u001B[36mRunnable.atransform\u001B[39m\u001B[34m(self, input, config, **kwargs)\u001B[39m\n\u001B[32m   1451\u001B[39m final: Input\n\u001B[32m   1452\u001B[39m got_first_val = \u001B[38;5;28;01mFalse\u001B[39;00m\n\u001B[32m-> \u001B[39m\u001B[32m1454\u001B[39m \u001B[38;5;28;01masync\u001B[39;00m \u001B[38;5;28;01mfor\u001B[39;00m ichunk \u001B[38;5;129;01min\u001B[39;00m \u001B[38;5;28minput\u001B[39m:\n\u001B[32m   1455\u001B[39m     \u001B[38;5;66;03m# The default implementation of transform is to buffer input and\u001B[39;00m\n\u001B[32m   1456\u001B[39m     \u001B[38;5;66;03m# then call stream.\u001B[39;00m\n\u001B[32m   1457\u001B[39m     \u001B[38;5;66;03m# It'll attempt to gather all input into a single chunk using\u001B[39;00m\n\u001B[32m   1458\u001B[39m     \u001B[38;5;66;03m# the `+` operator.\u001B[39;00m\n\u001B[32m   1459\u001B[39m     \u001B[38;5;66;03m# If the input is not addable, then we'll assume that we can\u001B[39;00m\n\u001B[32m   1460\u001B[39m     \u001B[38;5;66;03m# only operate on the last chunk,\u001B[39;00m\n\u001B[32m   1461\u001B[39m     \u001B[38;5;66;03m# and we'll iterate until we get to the last chunk.\u001B[39;00m\n\u001B[32m   1462\u001B[39m     \u001B[38;5;28;01mif\u001B[39;00m \u001B[38;5;129;01mnot\u001B[39;00m got_first_val:\n\u001B[32m   1463\u001B[39m         final = ichunk\n",
      "\u001B[36mFile \u001B[39m\u001B[32m~/PycharmProjects/langgraphAI/myenv/lib/python3.12/site-packages/langchain_core/runnables/base.py:1454\u001B[39m, in \u001B[36mRunnable.atransform\u001B[39m\u001B[34m(self, input, config, **kwargs)\u001B[39m\n\u001B[32m   1451\u001B[39m final: Input\n\u001B[32m   1452\u001B[39m got_first_val = \u001B[38;5;28;01mFalse\u001B[39;00m\n\u001B[32m-> \u001B[39m\u001B[32m1454\u001B[39m \u001B[38;5;28;01masync\u001B[39;00m \u001B[38;5;28;01mfor\u001B[39;00m ichunk \u001B[38;5;129;01min\u001B[39;00m \u001B[38;5;28minput\u001B[39m:\n\u001B[32m   1455\u001B[39m     \u001B[38;5;66;03m# The default implementation of transform is to buffer input and\u001B[39;00m\n\u001B[32m   1456\u001B[39m     \u001B[38;5;66;03m# then call stream.\u001B[39;00m\n\u001B[32m   1457\u001B[39m     \u001B[38;5;66;03m# It'll attempt to gather all input into a single chunk using\u001B[39;00m\n\u001B[32m   1458\u001B[39m     \u001B[38;5;66;03m# the `+` operator.\u001B[39;00m\n\u001B[32m   1459\u001B[39m     \u001B[38;5;66;03m# If the input is not addable, then we'll assume that we can\u001B[39;00m\n\u001B[32m   1460\u001B[39m     \u001B[38;5;66;03m# only operate on the last chunk,\u001B[39;00m\n\u001B[32m   1461\u001B[39m     \u001B[38;5;66;03m# and we'll iterate until we get to the last chunk.\u001B[39;00m\n\u001B[32m   1462\u001B[39m     \u001B[38;5;28;01mif\u001B[39;00m \u001B[38;5;129;01mnot\u001B[39;00m got_first_val:\n\u001B[32m   1463\u001B[39m         final = ichunk\n",
      "\u001B[36mFile \u001B[39m\u001B[32m~/PycharmProjects/langgraphAI/myenv/lib/python3.12/site-packages/langchain_core/runnables/base.py:1019\u001B[39m, in \u001B[36mRunnable.astream\u001B[39m\u001B[34m(self, input, config, **kwargs)\u001B[39m\n\u001B[32m   1002\u001B[39m \u001B[38;5;28;01masync\u001B[39;00m \u001B[38;5;28;01mdef\u001B[39;00m\u001B[38;5;250m \u001B[39m\u001B[34mastream\u001B[39m(\n\u001B[32m   1003\u001B[39m     \u001B[38;5;28mself\u001B[39m,\n\u001B[32m   1004\u001B[39m     \u001B[38;5;28minput\u001B[39m: Input,\n\u001B[32m   1005\u001B[39m     config: Optional[RunnableConfig] = \u001B[38;5;28;01mNone\u001B[39;00m,\n\u001B[32m   1006\u001B[39m     **kwargs: Optional[Any],\n\u001B[32m   1007\u001B[39m ) -> AsyncIterator[Output]:\n\u001B[32m   1008\u001B[39m \u001B[38;5;250m    \u001B[39m\u001B[33;03m\"\"\"Default implementation of astream, which calls ainvoke.\u001B[39;00m\n\u001B[32m   1009\u001B[39m \u001B[33;03m    Subclasses should override this method if they support streaming output.\u001B[39;00m\n\u001B[32m   1010\u001B[39m \n\u001B[32m   (...)\u001B[39m\u001B[32m   1017\u001B[39m \u001B[33;03m        The output of the Runnable.\u001B[39;00m\n\u001B[32m   1018\u001B[39m \u001B[33;03m    \"\"\"\u001B[39;00m\n\u001B[32m-> \u001B[39m\u001B[32m1019\u001B[39m     \u001B[38;5;28;01myield\u001B[39;00m \u001B[38;5;28;01mawait\u001B[39;00m \u001B[38;5;28mself\u001B[39m.ainvoke(\u001B[38;5;28minput\u001B[39m, config, **kwargs)\n",
      "\u001B[36mFile \u001B[39m\u001B[32m~/PycharmProjects/langgraphAI/myenv/lib/python3.12/site-packages/langgraph/utils/runnable.py:425\u001B[39m, in \u001B[36mRunnableCallable.ainvoke\u001B[39m\u001B[34m(self, input, config, **kwargs)\u001B[39m\n\u001B[32m    423\u001B[39m \u001B[38;5;28;01mif\u001B[39;00m ASYNCIO_ACCEPTS_CONTEXT:\n\u001B[32m    424\u001B[39m     coro = cast(Coroutine[\u001B[38;5;28;01mNone\u001B[39;00m, \u001B[38;5;28;01mNone\u001B[39;00m, Any], \u001B[38;5;28mself\u001B[39m.afunc(*args, **kwargs))\n\u001B[32m--> \u001B[39m\u001B[32m425\u001B[39m     ret = \u001B[38;5;28;01mawait\u001B[39;00m asyncio.create_task(coro, context=context)\n\u001B[32m    426\u001B[39m \u001B[38;5;28;01melse\u001B[39;00m:\n\u001B[32m    427\u001B[39m     ret = \u001B[38;5;28;01mawait\u001B[39;00m \u001B[38;5;28mself\u001B[39m.afunc(*args, **kwargs)\n",
      "\u001B[36mFile \u001B[39m\u001B[32m~/PycharmProjects/langgraphAI/myenv/lib/python3.12/site-packages/langchain_core/runnables/config.py:622\u001B[39m, in \u001B[36mrun_in_executor\u001B[39m\u001B[34m(executor_or_config, func, *args, **kwargs)\u001B[39m\n\u001B[32m    618\u001B[39m         \u001B[38;5;28;01mraise\u001B[39;00m \u001B[38;5;167;01mRuntimeError\u001B[39;00m \u001B[38;5;28;01mfrom\u001B[39;00m\u001B[38;5;250m \u001B[39m\u001B[34;01mexc\u001B[39;00m\n\u001B[32m    620\u001B[39m \u001B[38;5;28;01mif\u001B[39;00m executor_or_config \u001B[38;5;129;01mis\u001B[39;00m \u001B[38;5;28;01mNone\u001B[39;00m \u001B[38;5;129;01mor\u001B[39;00m \u001B[38;5;28misinstance\u001B[39m(executor_or_config, \u001B[38;5;28mdict\u001B[39m):\n\u001B[32m    621\u001B[39m     \u001B[38;5;66;03m# Use default executor with context copied from current context\u001B[39;00m\n\u001B[32m--> \u001B[39m\u001B[32m622\u001B[39m     \u001B[38;5;28;01mreturn\u001B[39;00m \u001B[38;5;28;01mawait\u001B[39;00m asyncio.get_running_loop().run_in_executor(\n\u001B[32m    623\u001B[39m         \u001B[38;5;28;01mNone\u001B[39;00m,\n\u001B[32m    624\u001B[39m         cast(Callable[..., T], partial(copy_context().run, wrapper)),\n\u001B[32m    625\u001B[39m     )\n\u001B[32m    627\u001B[39m \u001B[38;5;28;01mreturn\u001B[39;00m \u001B[38;5;28;01mawait\u001B[39;00m asyncio.get_running_loop().run_in_executor(executor_or_config, wrapper)\n",
      "\u001B[36mFile \u001B[39m\u001B[32m/Library/Frameworks/Python.framework/Versions/3.12/lib/python3.12/concurrent/futures/thread.py:58\u001B[39m, in \u001B[36m_WorkItem.run\u001B[39m\u001B[34m(self)\u001B[39m\n\u001B[32m     55\u001B[39m     \u001B[38;5;28;01mreturn\u001B[39;00m\n\u001B[32m     57\u001B[39m \u001B[38;5;28;01mtry\u001B[39;00m:\n\u001B[32m---> \u001B[39m\u001B[32m58\u001B[39m     result = \u001B[38;5;28;43mself\u001B[39;49m\u001B[43m.\u001B[49m\u001B[43mfn\u001B[49m\u001B[43m(\u001B[49m\u001B[43m*\u001B[49m\u001B[38;5;28;43mself\u001B[39;49m\u001B[43m.\u001B[49m\u001B[43margs\u001B[49m\u001B[43m,\u001B[49m\u001B[43m \u001B[49m\u001B[43m*\u001B[49m\u001B[43m*\u001B[49m\u001B[38;5;28;43mself\u001B[39;49m\u001B[43m.\u001B[49m\u001B[43mkwargs\u001B[49m\u001B[43m)\u001B[49m\n\u001B[32m     59\u001B[39m \u001B[38;5;28;01mexcept\u001B[39;00m \u001B[38;5;167;01mBaseException\u001B[39;00m \u001B[38;5;28;01mas\u001B[39;00m exc:\n\u001B[32m     60\u001B[39m     \u001B[38;5;28mself\u001B[39m.future.set_exception(exc)\n",
      "\u001B[36mFile \u001B[39m\u001B[32m~/PycharmProjects/langgraphAI/myenv/lib/python3.12/site-packages/langchain_core/runnables/config.py:613\u001B[39m, in \u001B[36mrun_in_executor.<locals>.wrapper\u001B[39m\u001B[34m()\u001B[39m\n\u001B[32m    611\u001B[39m \u001B[38;5;28;01mdef\u001B[39;00m\u001B[38;5;250m \u001B[39m\u001B[34mwrapper\u001B[39m() -> T:\n\u001B[32m    612\u001B[39m     \u001B[38;5;28;01mtry\u001B[39;00m:\n\u001B[32m--> \u001B[39m\u001B[32m613\u001B[39m         \u001B[38;5;28;01mreturn\u001B[39;00m \u001B[43mfunc\u001B[49m\u001B[43m(\u001B[49m\u001B[43m*\u001B[49m\u001B[43margs\u001B[49m\u001B[43m,\u001B[49m\u001B[43m \u001B[49m\u001B[43m*\u001B[49m\u001B[43m*\u001B[49m\u001B[43mkwargs\u001B[49m\u001B[43m)\u001B[49m\n\u001B[32m    614\u001B[39m     \u001B[38;5;28;01mexcept\u001B[39;00m \u001B[38;5;167;01mStopIteration\u001B[39;00m \u001B[38;5;28;01mas\u001B[39;00m exc:\n\u001B[32m    615\u001B[39m         \u001B[38;5;66;03m# StopIteration can't be set on an asyncio.Future\u001B[39;00m\n\u001B[32m    616\u001B[39m         \u001B[38;5;66;03m# it raises a TypeError and leaves the Future pending forever\u001B[39;00m\n\u001B[32m    617\u001B[39m         \u001B[38;5;66;03m# so we need to convert it to a RuntimeError\u001B[39;00m\n\u001B[32m    618\u001B[39m         \u001B[38;5;28;01mraise\u001B[39;00m \u001B[38;5;167;01mRuntimeError\u001B[39;00m \u001B[38;5;28;01mfrom\u001B[39;00m\u001B[38;5;250m \u001B[39m\u001B[34;01mexc\u001B[39;00m\n",
      "\u001B[36mCell\u001B[39m\u001B[36m \u001B[39m\u001B[32mIn[26]\u001B[39m\u001B[32m, line 32\u001B[39m, in \u001B[36manalyze_relations_1\u001B[39m\u001B[34m(state)\u001B[39m\n\u001B[32m     29\u001B[39m analysis_result = chain.run(inputs)\n\u001B[32m     31\u001B[39m \u001B[38;5;66;03m# Сохраняем результат анализа в состояние\u001B[39;00m\n\u001B[32m---> \u001B[39m\u001B[32m32\u001B[39m \u001B[43mstate\u001B[49m\u001B[43m.\u001B[49m\u001B[43manalysis\u001B[49m = analysis_result\n\u001B[32m     34\u001B[39m \u001B[38;5;66;03m# Возвращаем обновленное состояние с результатами анализа\u001B[39;00m\n\u001B[32m     35\u001B[39m \u001B[38;5;28;01mreturn\u001B[39;00m state\n",
      "\u001B[36mFile \u001B[39m\u001B[32m~/PycharmProjects/langgraphAI/myenv/lib/python3.12/site-packages/pydantic/main.py:925\u001B[39m, in \u001B[36mBaseModel.__setattr__\u001B[39m\u001B[34m(self, name, value)\u001B[39m\n\u001B[32m    922\u001B[39m     \u001B[38;5;28mself\u001B[39m.__pydantic_validator__.validate_assignment(\u001B[38;5;28mself\u001B[39m, name, value)\n\u001B[32m    923\u001B[39m \u001B[38;5;28;01melif\u001B[39;00m \u001B[38;5;28mself\u001B[39m.model_config.get(\u001B[33m'\u001B[39m\u001B[33mextra\u001B[39m\u001B[33m'\u001B[39m) != \u001B[33m'\u001B[39m\u001B[33mallow\u001B[39m\u001B[33m'\u001B[39m \u001B[38;5;129;01mand\u001B[39;00m name \u001B[38;5;129;01mnot\u001B[39;00m \u001B[38;5;129;01min\u001B[39;00m \u001B[38;5;28mself\u001B[39m.__pydantic_fields__:\n\u001B[32m    924\u001B[39m     \u001B[38;5;66;03m# TODO - matching error\u001B[39;00m\n\u001B[32m--> \u001B[39m\u001B[32m925\u001B[39m     \u001B[38;5;28;01mraise\u001B[39;00m \u001B[38;5;167;01mValueError\u001B[39;00m(\u001B[33mf\u001B[39m\u001B[33m'\u001B[39m\u001B[33m\"\u001B[39m\u001B[38;5;132;01m{\u001B[39;00m\u001B[38;5;28mself\u001B[39m.\u001B[34m__class__\u001B[39m.\u001B[34m__name__\u001B[39m\u001B[38;5;132;01m}\u001B[39;00m\u001B[33m\"\u001B[39m\u001B[33m object has no field \u001B[39m\u001B[33m\"\u001B[39m\u001B[38;5;132;01m{\u001B[39;00mname\u001B[38;5;132;01m}\u001B[39;00m\u001B[33m\"\u001B[39m\u001B[33m'\u001B[39m)\n\u001B[32m    926\u001B[39m \u001B[38;5;28;01melif\u001B[39;00m \u001B[38;5;28mself\u001B[39m.model_config.get(\u001B[33m'\u001B[39m\u001B[33mextra\u001B[39m\u001B[33m'\u001B[39m) == \u001B[33m'\u001B[39m\u001B[33mallow\u001B[39m\u001B[33m'\u001B[39m \u001B[38;5;129;01mand\u001B[39;00m name \u001B[38;5;129;01mnot\u001B[39;00m \u001B[38;5;129;01min\u001B[39;00m \u001B[38;5;28mself\u001B[39m.__pydantic_fields__:\n\u001B[32m    927\u001B[39m     \u001B[38;5;28;01mif\u001B[39;00m \u001B[38;5;28mself\u001B[39m.model_extra \u001B[38;5;129;01mand\u001B[39;00m name \u001B[38;5;129;01min\u001B[39;00m \u001B[38;5;28mself\u001B[39m.model_extra:\n",
      "\u001B[31mValueError\u001B[39m: \"SystemRelationsState\" object has no field \"analysis\"",
      "During task with name 'analyze' and id '14dcd179-3223-6b91-8acb-66ec6f8fcdd7'"
     ]
    }
   ],
   "execution_count": 28
  },
  {
   "metadata": {},
   "cell_type": "code",
   "outputs": [],
   "execution_count": null,
   "source": "",
   "id": "20634c7e91ae0e5b"
  }
 ],
 "metadata": {
  "kernelspec": {
   "display_name": "Python 3",
   "language": "python",
   "name": "python3"
  },
  "language_info": {
   "codemirror_mode": {
    "name": "ipython",
    "version": 2
   },
   "file_extension": ".py",
   "mimetype": "text/x-python",
   "name": "python",
   "nbconvert_exporter": "python",
   "pygments_lexer": "ipython2",
   "version": "2.7.6"
  }
 },
 "nbformat": 4,
 "nbformat_minor": 5
}
